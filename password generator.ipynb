{
 "cells": [
  {
   "cell_type": "code",
   "execution_count": 3,
   "id": "e847a32c-3718-4c9d-8be3-3e11266dad5a",
   "metadata": {},
   "outputs": [
    {
     "name": "stdout",
     "output_type": "stream",
     "text": [
      "Defaulting to user installation because normal site-packages is not writeable\n",
      "Collecting pyperclip\n",
      "  Downloading pyperclip-1.9.0.tar.gz (20 kB)\n",
      "  Preparing metadata (setup.py): started\n",
      "  Preparing metadata (setup.py): finished with status 'done'\n",
      "Building wheels for collected packages: pyperclip\n",
      "  Building wheel for pyperclip (setup.py): started\n",
      "  Building wheel for pyperclip (setup.py): finished with status 'done'\n",
      "  Created wheel for pyperclip: filename=pyperclip-1.9.0-py3-none-any.whl size=11019 sha256=658f7227fc4db7198d3bc45641206a6e68a775b57104852a1d6f5b9f4575770f\n",
      "  Stored in directory: c:\\users\\princ\\appdata\\local\\pip\\cache\\wheels\\e8\\e7\\56\\591cb88ba1783b38c40d584026e766aac9c3a048e34128ce8b\n",
      "Successfully built pyperclip\n",
      "Installing collected packages: pyperclip\n",
      "Successfully installed pyperclip-1.9.0\n"
     ]
    }
   ],
   "source": [
    "!pip install pyperclip"
   ]
  },
  {
   "cell_type": "code",
   "execution_count": 2,
   "id": "7209f8c2-e043-4fcc-bdbe-dacad09b4240",
   "metadata": {},
   "outputs": [],
   "source": [
    "from tkinter import *\n",
    "import string\n",
    "import random\n",
    "import pyperclip\n",
    "\n",
    "def generator():\n",
    "    \n",
    "    small_alphabets=string.ascii_lowercase\n",
    "    capital_alphabets=string.ascii_uppercase\n",
    "    numbers=string.digits\n",
    "    special_characters=string.punctuation\n",
    "\n",
    "    all=small_alphabets+capital_alphabets+numbers+special_characters\n",
    "    password_length=int(length_Box.get())\n",
    "\n",
    "    \n",
    "\n",
    "    if choice.get()==1:\n",
    "        passwordField.insert(0,random.sample(small_alphabets,password_length))\n",
    "    \n",
    "    if choice.get()==2:\n",
    "        passwordField.insert(0,random.sample(small_alphabets+capital_alphabets,password_length))  \n",
    "    \n",
    "    if choice.get()==3:\n",
    "        passwordField.insert(0,random.sample(all,password_length))\n",
    "\n",
    "\n",
    "     # password=random.sample(all,password_length)\n",
    "    # passwordField,insert(0,password)\n",
    "\n",
    "def copy():\n",
    "    random_password=passwordField.get()\n",
    "    pyperclip.copy(random_password)\n",
    "    \n",
    "\n",
    "root=Tk()\n",
    "root.config(bg='grey20')\n",
    "choice=IntVar()\n",
    "Font=('arial',13,'bold')\n",
    "\n",
    "passwordLabel=Label(root,text='password generator',font=('times new roman',20,'bold'),bg='grey20',fg='white')\n",
    "passwordLabel.grid(pady=10) # grid method helps in adding the value on window.\n",
    "weakradioButton=Radiobutton(root,text='weak',value=1,variable=choice,font=Font)\n",
    "weakradioButton.grid(pady=5)\n",
    "mediumradioButton=Radiobutton(root,text='medium',value=2,variable=choice,font=Font)\n",
    "mediumradioButton.grid(pady=5)\n",
    "strongradioButton=Radiobutton(root,text='strong',value=3,variable=choice,font=Font)\n",
    "strongradioButton.grid(pady=5)\n",
    "\n",
    "lengthLabel=Label(root,text='password length',font=Font,bg='grey20',fg='white')\n",
    "lengthLabel.grid(pady=5)\n",
    "\n",
    "length_Box=Spinbox(root,from_=5,to_=18,width=5,font=Font)\n",
    "length_Box.grid(pady=5)\n",
    "\n",
    "generateButton=Button(root,text='generate',font=Font,command=generator)\n",
    "generateButton.grid(pady=5)\n",
    "\n",
    "passwordField=Entry(root,width=25,bd=2,font=Font)\n",
    "passwordField.grid(pady=5)\n",
    "\n",
    "copyButton=Button(root,text='copy',font=Font,command=copy)\n",
    "copyButton.grid(pady=5)\n",
    "\n",
    "root.mainloop()"
   ]
  }
 ],
 "metadata": {
  "kernelspec": {
   "display_name": "Python 3 (ipykernel)",
   "language": "python",
   "name": "python3"
  },
  "language_info": {
   "codemirror_mode": {
    "name": "ipython",
    "version": 3
   },
   "file_extension": ".py",
   "mimetype": "text/x-python",
   "name": "python",
   "nbconvert_exporter": "python",
   "pygments_lexer": "ipython3",
   "version": "3.11.7"
  }
 },
 "nbformat": 4,
 "nbformat_minor": 5
}
